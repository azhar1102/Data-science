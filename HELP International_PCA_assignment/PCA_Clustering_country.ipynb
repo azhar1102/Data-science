{
 "cells": [
  {
   "cell_type": "markdown",
   "metadata": {},
   "source": [
    "HELP International is an international humanitarian NGO that is committed to fighting poverty and providing the people of backward countries with basic amenities and relief during the time of disasters and natural calamities. It runs a lot of operational projects from time to time along with advocacy drives to raise awareness as well as for funding purposes.\n",
    "\n",
    " \n",
    "\n",
    "After the recent funding programmes, they have been able to raise around $ 10 million. Now the CEO of the NGO needs to decide how to use this money strategically and effectively. The significant issues that come while making this decision are mostly related to choosing the countries that are in the direst need of aid. \n",
    "\n",
    " \n",
    "\n",
    "And this is where you come in as a data analyst. Your job is to categorise the countries using some socio-economic and health factors that determine the overall development of the country. Then you need to suggest the countries which the CEO needs to focus on the most.  \n",
    "\n",
    "make sure that you report back at least 5 countries which are in direst need of aid from the analysis work that you perform.\n",
    " "
   ]
  },
  {
   "cell_type": "code",
   "execution_count": 2,
   "metadata": {},
   "outputs": [],
   "source": [
    "import pandas as pd\n",
    "import numpy as np\n",
    "import matplotlib.pyplot as plt\n",
    "import seaborn as sns\n",
    "\n",
    "import sklearn\n",
    "from sklearn.preprocessing import StandardScaler\n",
    "from numpy.linalg import svd\n",
    "\n",
    "import warnings\n",
    "warnings.filterwarnings(\"ignore\")"
   ]
  },
  {
   "cell_type": "code",
   "execution_count": 17,
   "metadata": {},
   "outputs": [],
   "source": [
    "#Loading the data set\n",
    "country_df = pd.read_csv(\"/Users/azharsharieff/Downloads/Country-data (1).csv\")\n",
    "country_df.head()\n",
    "country_data_set = country_df"
   ]
  },
  {
   "cell_type": "code",
   "execution_count": 18,
   "metadata": {},
   "outputs": [
    {
     "name": "stdout",
     "output_type": "stream",
     "text": [
      "(167, 10)\n",
      "--------------------------------------------------\n",
      "       child_mort     exports      health     imports         income  \\\n",
      "count  167.000000  167.000000  167.000000  167.000000     167.000000   \n",
      "mean    38.270060   41.108976    6.815689   46.890215   17144.688623   \n",
      "std     40.328931   27.412010    2.746837   24.209589   19278.067698   \n",
      "min      2.600000    0.109000    1.810000    0.065900     609.000000   \n",
      "25%      8.250000   23.800000    4.920000   30.200000    3355.000000   \n",
      "50%     19.300000   35.000000    6.320000   43.300000    9960.000000   \n",
      "75%     62.100000   51.350000    8.600000   58.750000   22800.000000   \n",
      "max    208.000000  200.000000   17.900000  174.000000  125000.000000   \n",
      "\n",
      "        inflation  life_expec   total_fer           gdpp  \n",
      "count  167.000000  167.000000  167.000000     167.000000  \n",
      "mean     7.781832   70.555689    2.947964   12964.155689  \n",
      "std     10.570704    8.893172    1.513848   18328.704809  \n",
      "min     -4.210000   32.100000    1.150000     231.000000  \n",
      "25%      1.810000   65.300000    1.795000    1330.000000  \n",
      "50%      5.390000   73.100000    2.410000    4660.000000  \n",
      "75%     10.750000   76.800000    3.880000   14050.000000  \n",
      "max    104.000000   82.800000    7.490000  105000.000000  \n",
      "--------------------------------------------------\n",
      "<class 'pandas.core.frame.DataFrame'>\n",
      "RangeIndex: 167 entries, 0 to 166\n",
      "Data columns (total 10 columns):\n",
      "country       167 non-null object\n",
      "child_mort    167 non-null float64\n",
      "exports       167 non-null float64\n",
      "health        167 non-null float64\n",
      "imports       167 non-null float64\n",
      "income        167 non-null int64\n",
      "inflation     167 non-null float64\n",
      "life_expec    167 non-null float64\n",
      "total_fer     167 non-null float64\n",
      "gdpp          167 non-null int64\n",
      "dtypes: float64(7), int64(2), object(1)\n",
      "memory usage: 13.1+ KB\n",
      "None\n"
     ]
    }
   ],
   "source": [
    "# understanding the data\n",
    "\n",
    "print(country_df.shape)\n",
    "print(\"--------------------------------------------------\")\n",
    "print(country_df.describe())\n",
    "print(\"--------------------------------------------------\")\n",
    "print(country_df.info())"
   ]
  },
  {
   "cell_type": "markdown",
   "metadata": {},
   "source": [
    "## Data Preparation"
   ]
  },
  {
   "cell_type": "code",
   "execution_count": 19,
   "metadata": {},
   "outputs": [],
   "source": [
    "#variable transformation - convertig health as % of GDP to health per capita\n",
    "country_df['health_spending_per_capita'] = ((country_df['health']*country_df['gdpp'])/100)\n",
    "country_df = country_df.drop('health', axis =1)"
   ]
  },
  {
   "cell_type": "code",
   "execution_count": 20,
   "metadata": {},
   "outputs": [],
   "source": [
    "#variable transformation - convertig export as % of GDP to export per capita\n",
    "\n",
    "country_df['exports_per_capita'] = ((country_df['exports']*country_df['gdpp'])/100)\n",
    "country_df = country_df.drop('exports', axis =1)"
   ]
  },
  {
   "cell_type": "code",
   "execution_count": 21,
   "metadata": {},
   "outputs": [],
   "source": [
    "#variable transformation - convertig imports as % of GDP to imports per capita\n",
    "\n",
    "country_df['imports_per_capita'] = ((country_df['imports']*country_df['gdpp'])/100)\n",
    "country_df = country_df.drop('imports', axis =1)"
   ]
  },
  {
   "cell_type": "code",
   "execution_count": 22,
   "metadata": {},
   "outputs": [],
   "source": [
    "# creating back up \n",
    "country_data = country_df"
   ]
  },
  {
   "cell_type": "code",
   "execution_count": 23,
   "metadata": {},
   "outputs": [
    {
     "data": {
      "text/html": [
       "<div>\n",
       "<style scoped>\n",
       "    .dataframe tbody tr th:only-of-type {\n",
       "        vertical-align: middle;\n",
       "    }\n",
       "\n",
       "    .dataframe tbody tr th {\n",
       "        vertical-align: top;\n",
       "    }\n",
       "\n",
       "    .dataframe thead th {\n",
       "        text-align: right;\n",
       "    }\n",
       "</style>\n",
       "<table border=\"1\" class=\"dataframe\">\n",
       "  <thead>\n",
       "    <tr style=\"text-align: right;\">\n",
       "      <th></th>\n",
       "      <th>country</th>\n",
       "      <th>child_mort</th>\n",
       "      <th>income</th>\n",
       "      <th>inflation</th>\n",
       "      <th>life_expec</th>\n",
       "      <th>total_fer</th>\n",
       "      <th>gdpp</th>\n",
       "      <th>health_spending_per_capita</th>\n",
       "      <th>exports_per_capita</th>\n",
       "      <th>imports_per_capita</th>\n",
       "    </tr>\n",
       "  </thead>\n",
       "  <tbody>\n",
       "    <tr>\n",
       "      <th>0</th>\n",
       "      <td>Afghanistan</td>\n",
       "      <td>90.2</td>\n",
       "      <td>1610</td>\n",
       "      <td>9.44</td>\n",
       "      <td>56.2</td>\n",
       "      <td>5.82</td>\n",
       "      <td>553</td>\n",
       "      <td>41.9174</td>\n",
       "      <td>55.30</td>\n",
       "      <td>248.297</td>\n",
       "    </tr>\n",
       "    <tr>\n",
       "      <th>1</th>\n",
       "      <td>Albania</td>\n",
       "      <td>16.6</td>\n",
       "      <td>9930</td>\n",
       "      <td>4.49</td>\n",
       "      <td>76.3</td>\n",
       "      <td>1.65</td>\n",
       "      <td>4090</td>\n",
       "      <td>267.8950</td>\n",
       "      <td>1145.20</td>\n",
       "      <td>1987.740</td>\n",
       "    </tr>\n",
       "    <tr>\n",
       "      <th>2</th>\n",
       "      <td>Algeria</td>\n",
       "      <td>27.3</td>\n",
       "      <td>12900</td>\n",
       "      <td>16.10</td>\n",
       "      <td>76.5</td>\n",
       "      <td>2.89</td>\n",
       "      <td>4460</td>\n",
       "      <td>185.9820</td>\n",
       "      <td>1712.64</td>\n",
       "      <td>1400.440</td>\n",
       "    </tr>\n",
       "    <tr>\n",
       "      <th>3</th>\n",
       "      <td>Angola</td>\n",
       "      <td>119.0</td>\n",
       "      <td>5900</td>\n",
       "      <td>22.40</td>\n",
       "      <td>60.1</td>\n",
       "      <td>6.16</td>\n",
       "      <td>3530</td>\n",
       "      <td>100.6050</td>\n",
       "      <td>2199.19</td>\n",
       "      <td>1514.370</td>\n",
       "    </tr>\n",
       "    <tr>\n",
       "      <th>4</th>\n",
       "      <td>Antigua and Barbuda</td>\n",
       "      <td>10.3</td>\n",
       "      <td>19100</td>\n",
       "      <td>1.44</td>\n",
       "      <td>76.8</td>\n",
       "      <td>2.13</td>\n",
       "      <td>12200</td>\n",
       "      <td>735.6600</td>\n",
       "      <td>5551.00</td>\n",
       "      <td>7185.800</td>\n",
       "    </tr>\n",
       "  </tbody>\n",
       "</table>\n",
       "</div>"
      ],
      "text/plain": [
       "               country  child_mort  income  inflation  life_expec  total_fer  \\\n",
       "0          Afghanistan        90.2    1610       9.44        56.2       5.82   \n",
       "1              Albania        16.6    9930       4.49        76.3       1.65   \n",
       "2              Algeria        27.3   12900      16.10        76.5       2.89   \n",
       "3               Angola       119.0    5900      22.40        60.1       6.16   \n",
       "4  Antigua and Barbuda        10.3   19100       1.44        76.8       2.13   \n",
       "\n",
       "    gdpp  health_spending_per_capita  exports_per_capita  imports_per_capita  \n",
       "0    553                     41.9174               55.30             248.297  \n",
       "1   4090                    267.8950             1145.20            1987.740  \n",
       "2   4460                    185.9820             1712.64            1400.440  \n",
       "3   3530                    100.6050             2199.19            1514.370  \n",
       "4  12200                    735.6600             5551.00            7185.800  "
      ]
     },
     "execution_count": 23,
     "metadata": {},
     "output_type": "execute_result"
    }
   ],
   "source": [
    "country_df.head()"
   ]
  },
  {
   "cell_type": "code",
   "execution_count": 24,
   "metadata": {},
   "outputs": [
    {
     "data": {
      "text/plain": [
       "country                       0\n",
       "child_mort                    0\n",
       "income                        0\n",
       "inflation                     0\n",
       "life_expec                    0\n",
       "total_fer                     0\n",
       "gdpp                          0\n",
       "health_spending_per_capita    0\n",
       "exports_per_capita            0\n",
       "imports_per_capita            0\n",
       "dtype: int64"
      ]
     },
     "execution_count": 24,
     "metadata": {},
     "output_type": "execute_result"
    }
   ],
   "source": [
    "# checking for missing values\n",
    "country_df.isnull().sum()"
   ]
  },
  {
   "cell_type": "markdown",
   "metadata": {},
   "source": [
    "## Feature scaling"
   ]
  },
  {
   "cell_type": "code",
   "execution_count": 25,
   "metadata": {},
   "outputs": [],
   "source": [
    "scaler = StandardScaler()"
   ]
  },
  {
   "cell_type": "code",
   "execution_count": 72,
   "metadata": {},
   "outputs": [],
   "source": [
    "# creating data set with numerical variables\n",
    "country_df_scaled = country_df[['child_mort','income','inflation','life_expec','total_fer','gdpp','health_spending_per_capita',\n",
    "   'exports_per_capita','imports_per_capita']] "
   ]
  },
  {
   "cell_type": "code",
   "execution_count": 73,
   "metadata": {},
   "outputs": [
    {
     "data": {
      "text/html": [
       "<div>\n",
       "<style scoped>\n",
       "    .dataframe tbody tr th:only-of-type {\n",
       "        vertical-align: middle;\n",
       "    }\n",
       "\n",
       "    .dataframe tbody tr th {\n",
       "        vertical-align: top;\n",
       "    }\n",
       "\n",
       "    .dataframe thead th {\n",
       "        text-align: right;\n",
       "    }\n",
       "</style>\n",
       "<table border=\"1\" class=\"dataframe\">\n",
       "  <thead>\n",
       "    <tr style=\"text-align: right;\">\n",
       "      <th></th>\n",
       "      <th>child_mort</th>\n",
       "      <th>income</th>\n",
       "      <th>inflation</th>\n",
       "      <th>life_expec</th>\n",
       "      <th>total_fer</th>\n",
       "      <th>gdpp</th>\n",
       "      <th>health_spending_per_capita</th>\n",
       "      <th>exports_per_capita</th>\n",
       "      <th>imports_per_capita</th>\n",
       "    </tr>\n",
       "  </thead>\n",
       "  <tbody>\n",
       "    <tr>\n",
       "      <th>0</th>\n",
       "      <td>1.291532</td>\n",
       "      <td>-0.808245</td>\n",
       "      <td>0.157336</td>\n",
       "      <td>-1.619092</td>\n",
       "      <td>1.902882</td>\n",
       "      <td>-0.679180</td>\n",
       "      <td>-0.565040</td>\n",
       "      <td>-0.411011</td>\n",
       "      <td>-0.432276</td>\n",
       "    </tr>\n",
       "    <tr>\n",
       "      <th>1</th>\n",
       "      <td>-0.538949</td>\n",
       "      <td>-0.375369</td>\n",
       "      <td>-0.312347</td>\n",
       "      <td>0.647866</td>\n",
       "      <td>-0.859973</td>\n",
       "      <td>-0.485623</td>\n",
       "      <td>-0.439218</td>\n",
       "      <td>-0.350191</td>\n",
       "      <td>-0.313677</td>\n",
       "    </tr>\n",
       "    <tr>\n",
       "      <th>2</th>\n",
       "      <td>-0.272833</td>\n",
       "      <td>-0.220844</td>\n",
       "      <td>0.789274</td>\n",
       "      <td>0.670423</td>\n",
       "      <td>-0.038404</td>\n",
       "      <td>-0.465376</td>\n",
       "      <td>-0.484826</td>\n",
       "      <td>-0.318526</td>\n",
       "      <td>-0.353720</td>\n",
       "    </tr>\n",
       "    <tr>\n",
       "      <th>3</th>\n",
       "      <td>2.007808</td>\n",
       "      <td>-0.585043</td>\n",
       "      <td>1.387054</td>\n",
       "      <td>-1.179234</td>\n",
       "      <td>2.128151</td>\n",
       "      <td>-0.516268</td>\n",
       "      <td>-0.532363</td>\n",
       "      <td>-0.291375</td>\n",
       "      <td>-0.345953</td>\n",
       "    </tr>\n",
       "    <tr>\n",
       "      <th>4</th>\n",
       "      <td>-0.695634</td>\n",
       "      <td>0.101732</td>\n",
       "      <td>-0.601749</td>\n",
       "      <td>0.704258</td>\n",
       "      <td>-0.541946</td>\n",
       "      <td>-0.041817</td>\n",
       "      <td>-0.178771</td>\n",
       "      <td>-0.104331</td>\n",
       "      <td>0.040735</td>\n",
       "    </tr>\n",
       "  </tbody>\n",
       "</table>\n",
       "</div>"
      ],
      "text/plain": [
       "   child_mort    income  inflation  life_expec  total_fer      gdpp  \\\n",
       "0    1.291532 -0.808245   0.157336   -1.619092   1.902882 -0.679180   \n",
       "1   -0.538949 -0.375369  -0.312347    0.647866  -0.859973 -0.485623   \n",
       "2   -0.272833 -0.220844   0.789274    0.670423  -0.038404 -0.465376   \n",
       "3    2.007808 -0.585043   1.387054   -1.179234   2.128151 -0.516268   \n",
       "4   -0.695634  0.101732  -0.601749    0.704258  -0.541946 -0.041817   \n",
       "\n",
       "   health_spending_per_capita  exports_per_capita  imports_per_capita  \n",
       "0                   -0.565040           -0.411011           -0.432276  \n",
       "1                   -0.439218           -0.350191           -0.313677  \n",
       "2                   -0.484826           -0.318526           -0.353720  \n",
       "3                   -0.532363           -0.291375           -0.345953  \n",
       "4                   -0.178771           -0.104331            0.040735  "
      ]
     },
     "execution_count": 73,
     "metadata": {},
     "output_type": "execute_result"
    }
   ],
   "source": [
    "country_df_scaled[['child_mort','income','inflation','life_expec','total_fer','gdpp','health_spending_per_capita',\n",
    "   'exports_per_capita','imports_per_capita']] = scaler.fit_transform(country_df[['child_mort','income','inflation',\n",
    "                                                                                'life_expec','total_fer','gdpp','health_spending_per_capita',\n",
    "                                                                                'exports_per_capita','imports_per_capita']])\n",
    "country_df_scaled.head()"
   ]
  },
  {
   "cell_type": "code",
   "execution_count": 74,
   "metadata": {},
   "outputs": [
    {
     "data": {
      "image/png": "[encoded data removed]",
      "text/plain": [
       "<Figure size 576x576 with 2 Axes>"
      ]
     },
     "metadata": {
      "needs_background": "light"
     },
     "output_type": "display_data"
    }
   ],
   "source": [
    "# corelation plot\n",
    "plt.figure(figsize = (8,8))\n",
    "sns.heatmap(country_df.corr(), annot = True)\n",
    "plt.show()"
   ]
  },
  {
   "cell_type": "markdown",
   "metadata": {},
   "source": [
    "## Performing PCA"
   ]
  },
  {
   "cell_type": "code",
   "execution_count": 75,
   "metadata": {},
   "outputs": [
    {
     "data": {
      "text/plain": [
       "PCA(copy=True, iterated_power='auto', n_components=None, random_state=42,\n",
       "  svd_solver='randomized', tol=0.0, whiten=False)"
      ]
     },
     "execution_count": 75,
     "metadata": {},
     "output_type": "execute_result"
    }
   ],
   "source": [
    "from sklearn.decomposition import PCA\n",
    "# performing PCA\n",
    "\n",
    "pca = PCA(svd_solver = 'randomized',random_state = 42)\n",
    "pca.fit(country_df_scaled)"
   ]
  },
  {
   "cell_type": "code",
   "execution_count": 38,
   "metadata": {},
   "outputs": [],
   "source": [
    "pca_df = pca.transform(country_df_scaled)"
   ]
  },
  {
   "cell_type": "code",
   "execution_count": 39,
   "metadata": {},
   "outputs": [
    {
     "data": {
      "text/plain": [
       "array([[-0.31639186,  0.38004113, -0.14308531,  0.34385651, -0.30284224,\n",
       "         0.39998795,  0.358535  ,  0.34288671,  0.34486492],\n",
       "       [ 0.47626735,  0.12838448,  0.22126089, -0.36981973,  0.4597152 ,\n",
       "         0.2006241 ,  0.1550529 ,  0.39731091,  0.37078075],\n",
       "       [-0.15001225,  0.14576421,  0.94841868,  0.19675173, -0.07783431,\n",
       "         0.01033941, -0.07570322, -0.03057367, -0.07217386],\n",
       "       [-0.14805195, -0.15480592, -0.00762798, -0.01839465, -0.21392805,\n",
       "        -0.36477239, -0.59971228,  0.44942527,  0.46179779],\n",
       "       [ 0.1019948 ,  0.79407469, -0.13642345, -0.15404105, -0.02033568,\n",
       "         0.08750149, -0.49319984, -0.03853829, -0.2527867 ],\n",
       "       [ 0.19658519, -0.03814681,  0.10840284, -0.58600986, -0.75390075,\n",
       "         0.04538167,  0.18069888, -0.03891112, -0.01217988],\n",
       "       [ 0.76126725, -0.02311312, -0.02207663,  0.58120846, -0.27314534,\n",
       "        -0.04402264, -0.06461567, -0.01366973,  0.02718244],\n",
       "       [ 0.00644411,  0.3938113 , -0.00607016,  0.002966  ,  0.03429334,\n",
       "        -0.79902242,  0.43007213, -0.05526371,  0.1311355 ],\n",
       "       [-0.00495137,  0.07901102,  0.01128137, -0.03159406,  0.02368185,\n",
       "         0.12846398, -0.13034593, -0.71792388,  0.66568664]])"
      ]
     },
     "execution_count": 39,
     "metadata": {},
     "output_type": "execute_result"
    }
   ],
   "source": [
    "pca.components_"
   ]
  },
  {
   "cell_type": "code",
   "execution_count": 40,
   "metadata": {},
   "outputs": [
    {
     "data": {
      "text/html": [
       "<div>\n",
       "<style scoped>\n",
       "    .dataframe tbody tr th:only-of-type {\n",
       "        vertical-align: middle;\n",
       "    }\n",
       "\n",
       "    .dataframe tbody tr th {\n",
       "        vertical-align: top;\n",
       "    }\n",
       "\n",
       "    .dataframe thead th {\n",
       "        text-align: right;\n",
       "    }\n",
       "</style>\n",
       "<table border=\"1\" class=\"dataframe\">\n",
       "  <thead>\n",
       "    <tr style=\"text-align: right;\">\n",
       "      <th></th>\n",
       "      <th>PC1</th>\n",
       "      <th>PC2</th>\n",
       "      <th>Features</th>\n",
       "    </tr>\n",
       "  </thead>\n",
       "  <tbody>\n",
       "    <tr>\n",
       "      <th>0</th>\n",
       "      <td>-0.316392</td>\n",
       "      <td>0.476267</td>\n",
       "      <td>child_mort</td>\n",
       "    </tr>\n",
       "    <tr>\n",
       "      <th>1</th>\n",
       "      <td>0.380041</td>\n",
       "      <td>0.128384</td>\n",
       "      <td>income</td>\n",
       "    </tr>\n",
       "    <tr>\n",
       "      <th>2</th>\n",
       "      <td>-0.143085</td>\n",
       "      <td>0.221261</td>\n",
       "      <td>inflation</td>\n",
       "    </tr>\n",
       "    <tr>\n",
       "      <th>3</th>\n",
       "      <td>0.343857</td>\n",
       "      <td>-0.369820</td>\n",
       "      <td>life_expec</td>\n",
       "    </tr>\n",
       "    <tr>\n",
       "      <th>4</th>\n",
       "      <td>-0.302842</td>\n",
       "      <td>0.459715</td>\n",
       "      <td>total_fer</td>\n",
       "    </tr>\n",
       "  </tbody>\n",
       "</table>\n",
       "</div>"
      ],
      "text/plain": [
       "        PC1       PC2    Features\n",
       "0 -0.316392  0.476267  child_mort\n",
       "1  0.380041  0.128384      income\n",
       "2 -0.143085  0.221261   inflation\n",
       "3  0.343857 -0.369820  life_expec\n",
       "4 -0.302842  0.459715   total_fer"
      ]
     },
     "execution_count": 40,
     "metadata": {},
     "output_type": "execute_result"
    }
   ],
   "source": [
    "\n",
    "colnames = list(country_df_scaled.columns)\n",
    "pca_df = pd.DataFrame({'PC1':pca.components_[0],'PC2':pca.components_[1],'Features':colnames})\n",
    "pca_df.head()"
   ]
  },
  {
   "cell_type": "code",
   "execution_count": 41,
   "metadata": {},
   "outputs": [
    {
     "data": {
      "image/png": "[encoded data removed]",
      "text/plain": [
       "<Figure size 576x576 with 1 Axes>"
      ]
     },
     "metadata": {
      "needs_background": "light"
     },
     "output_type": "display_data"
    }
   ],
   "source": [
    "# ploting the principle components\n",
    "%matplotlib inline\n",
    "fig = plt.figure(figsize = (8,8))\n",
    "plt.scatter(pca_df.PC1,pca_df.PC2)\n",
    "plt.xlabel('Principle component 1')\n",
    "plt.ylabel('Principle component 2')\n",
    "\n",
    "for i, txt in enumerate(pca_df.Features):\n",
    "    plt.annotate(txt,(pca_df.PC1[i],pca_df.PC2[i]))\n",
    "plt.tight_layout()\n",
    "plt.show()"
   ]
  },
  {
   "cell_type": "code",
   "execution_count": 76,
   "metadata": {},
   "outputs": [
    {
     "data": {
      "text/plain": [
       "array([5.89372984e-01, 1.84451685e-01, 9.91147170e-02, 6.07227801e-02,\n",
       "       3.02917253e-02, 2.45982702e-02, 9.39743701e-03, 1.55641971e-03,\n",
       "       4.93981394e-04])"
      ]
     },
     "execution_count": 76,
     "metadata": {},
     "output_type": "execute_result"
    }
   ],
   "source": [
    "# variance explained by each PC\n",
    "pca.explained_variance_ratio_"
   ]
  },
  {
   "cell_type": "code",
   "execution_count": 77,
   "metadata": {},
   "outputs": [
    {
     "data": {
      "image/png": "[encoded data removed]",
      "text/plain": [
       "<Figure size 864x576 with 1 Axes>"
      ]
     },
     "metadata": {
      "needs_background": "light"
     },
     "output_type": "display_data"
    }
   ],
   "source": [
    "# scree plot\n",
    "%matplotlib inline\n",
    "fig = plt.figure(figsize = (12,8))\n",
    "plt.plot(np.cumsum(pca.explained_variance_ratio_))\n",
    "plt.xlabel(\"number of principle components\")\n",
    "plt.ylabel(\"variance\")\n",
    "plt.show()"
   ]
  },
  {
   "cell_type": "markdown",
   "metadata": {},
   "source": [
    "from the scree plot the optimal number of Principal Components can be 4"
   ]
  },
  {
   "cell_type": "code",
   "execution_count": 45,
   "metadata": {},
   "outputs": [],
   "source": [
    "from sklearn.decomposition import IncrementalPCA"
   ]
  },
  {
   "cell_type": "code",
   "execution_count": 80,
   "metadata": {},
   "outputs": [],
   "source": [
    "# performing PCA with 4 principle components\n",
    "pca_final = IncrementalPCA(n_components = 4)"
   ]
  },
  {
   "cell_type": "code",
   "execution_count": 81,
   "metadata": {},
   "outputs": [
    {
     "data": {
      "text/plain": [
       "(167, 4)"
      ]
     },
     "execution_count": 81,
     "metadata": {},
     "output_type": "execute_result"
    }
   ],
   "source": [
    "pca_df_final = pca_final.fit_transform(country_df_scaled)\n",
    "pca_df_final.shape"
   ]
  },
  {
   "cell_type": "code",
   "execution_count": 82,
   "metadata": {},
   "outputs": [],
   "source": [
    "# creating correlation matrix for the principle componets\n",
    "corrmat = np.corrcoef(pca_df_final.transpose())"
   ]
  },
  {
   "cell_type": "code",
   "execution_count": 83,
   "metadata": {},
   "outputs": [
    {
     "data": {
      "image/png": "[encoded data removed]",
      "text/plain": [
       "<Figure size 432x288 with 2 Axes>"
      ]
     },
     "metadata": {
      "needs_background": "light"
     },
     "output_type": "display_data"
    }
   ],
   "source": [
    "%matplotlib inline\n",
    "sns.heatmap(corrmat, annot= True)\n",
    "plt.show()"
   ]
  },
  {
   "cell_type": "markdown",
   "metadata": {},
   "source": [
    "From the above heatmap,we notice that there is no correlation between principle components. "
   ]
  },
  {
   "cell_type": "markdown",
   "metadata": {},
   "source": [
    "## K-Means clustering"
   ]
  },
  {
   "cell_type": "code",
   "execution_count": 51,
   "metadata": {},
   "outputs": [],
   "source": [
    "from sklearn.cluster import KMeans"
   ]
  },
  {
   "cell_type": "code",
   "execution_count": 84,
   "metadata": {},
   "outputs": [
    {
     "name": "stdout",
     "output_type": "stream",
     "text": [
      "[842.4238271354955, 551.7047401212994, 380.67187638395865, 307.14273548659185, 256.94283437792456, 208.6893045113537, 183.02407556742395]\n"
     ]
    },
    {
     "data": {
      "image/png": "[encoded data removed]",
      "text/plain": [
       "<Figure size 432x288 with 1 Axes>"
      ]
     },
     "metadata": {
      "needs_background": "light"
     },
     "output_type": "display_data"
    }
   ],
   "source": [
    "# elbow-curve / SSD\n",
    "ssd = []\n",
    "range_n_clusters = [2,3,4,5,6,7,8]\n",
    "for num_clusters in range_n_clusters:\n",
    "    kmeans = KMeans(n_clusters = num_clusters , max_iter = 50)\n",
    "    kmeans.fit(pca_df_final)\n",
    "    \n",
    "    ssd.append(kmeans.inertia_)\n",
    "\n",
    "print(ssd)\n",
    "# plot SSDs for each n_clusters\n",
    "plt.plot(ssd)\n",
    "plt.show()"
   ]
  },
  {
   "cell_type": "markdown",
   "metadata": {},
   "source": [
    "From the above elbow curve, the optimal number of clusters we can have is 3."
   ]
  },
  {
   "cell_type": "code",
   "execution_count": 85,
   "metadata": {},
   "outputs": [],
   "source": [
    "from sklearn.metrics import silhouette_score"
   ]
  },
  {
   "cell_type": "code",
   "execution_count": 86,
   "metadata": {},
   "outputs": [
    {
     "name": "stdout",
     "output_type": "stream",
     "text": [
      "For n_clusters = 2, the Silhouette score is 0.48686868639649855\n",
      "For n_clusters = 3, the Silhouette score is 0.46706199059895176\n",
      "For n_clusters = 4, the Silhouette score is 0.47659198665163294\n",
      "For n_clusters = 5, the Silhouette score is 0.4787763605050636\n",
      "For n_clusters = 6, the Silhouette score is 0.4009676339768897\n",
      "For n_clusters = 7, the Silhouette score is 0.36975503075464544\n",
      "For n_clusters = 8, the Silhouette score is 0.38399506287619484\n"
     ]
    }
   ],
   "source": [
    "range_n_clusters = [2,3,4,5,6,7,8]\n",
    "\n",
    "for num_clusters in range_n_clusters:\n",
    "    # initialise kmeans\n",
    "    kmeans = KMeans(n_clusters = num_clusters, max_iter = 50)\n",
    "    kmeans.fit(pca_df_final)\n",
    "    \n",
    "    cluster_labels = kmeans.labels_\n",
    "    # Silhouette score\n",
    "    silhouette_avg = silhouette_score(pca_df_final,cluster_labels)\n",
    "    print(\"For n_clusters = {0}, the Silhouette score is {1}\".format(num_clusters,silhouette_avg))"
   ]
  },
  {
   "cell_type": "code",
   "execution_count": 106,
   "metadata": {},
   "outputs": [
    {
     "data": {
      "text/plain": [
       "KMeans(algorithm='auto', copy_x=True, init='k-means++', max_iter=50,\n",
       "    n_clusters=4, n_init=10, n_jobs=None, precompute_distances='auto',\n",
       "    random_state=None, tol=0.0001, verbose=0)"
      ]
     },
     "execution_count": 106,
     "metadata": {},
     "output_type": "execute_result"
    }
   ],
   "source": [
    "# clustering with 3 clusters\n",
    "kmeans = KMeans(n_clusters = 4, max_iter = 50)\n",
    "kmeans.fit(pca_df_final)"
   ]
  },
  {
   "cell_type": "code",
   "execution_count": 107,
   "metadata": {},
   "outputs": [
    {
     "data": {
      "text/plain": [
       "array([0, 2, 2, 0, 2, 2, 2, 1, 1, 2, 2, 2, 2, 2, 2, 1, 2, 0, 2, 2, 2, 0,\n",
       "       2, 1, 2, 0, 0, 2, 0, 1, 2, 0, 0, 2, 2, 2, 0, 0, 0, 2, 0, 2, 1, 2,\n",
       "       1, 2, 2, 2, 2, 0, 0, 2, 2, 1, 1, 0, 0, 2, 1, 0, 1, 2, 2, 0, 0, 2,\n",
       "       0, 2, 1, 2, 2, 2, 0, 1, 1, 1, 2, 1, 2, 2, 0, 0, 1, 2, 0, 2, 2, 0,\n",
       "       0, 2, 2, 3, 2, 0, 0, 2, 2, 0, 1, 0, 2, 2, 2, 2, 2, 2, 0, 2, 0, 2,\n",
       "       1, 1, 0, 0, 1, 2, 0, 2, 2, 2, 2, 2, 1, 1, 2, 2, 0, 2, 2, 0, 2, 2,\n",
       "       0, 3, 2, 1, 0, 0, 2, 1, 2, 2, 0, 2, 1, 1, 2, 0, 2, 0, 0, 2, 2, 2,\n",
       "       2, 0, 2, 1, 1, 1, 2, 2, 2, 2, 2, 0, 0], dtype=int32)"
      ]
     },
     "execution_count": 107,
     "metadata": {},
     "output_type": "execute_result"
    }
   ],
   "source": [
    "kmeans.labels_"
   ]
  },
  {
   "cell_type": "code",
   "execution_count": 108,
   "metadata": {},
   "outputs": [],
   "source": [
    "# Assiging clusters to countries\n",
    "country_data['Cluster_ID'] = kmeans.labels_"
   ]
  },
  {
   "cell_type": "markdown",
   "metadata": {},
   "source": [
    "## Hierarchical clustering"
   ]
  },
  {
   "cell_type": "code",
   "execution_count": 109,
   "metadata": {},
   "outputs": [],
   "source": [
    "from scipy.cluster.hierarchy import linkage\n",
    "from scipy.cluster.hierarchy import dendrogram\n",
    "from scipy.cluster.hierarchy import cut_tree"
   ]
  },
  {
   "cell_type": "code",
   "execution_count": 110,
   "metadata": {},
   "outputs": [
    {
     "data": {
      "image/png": "[encoded data removed]",
      "text/plain": [
       "<Figure size 432x288 with 1 Axes>"
      ]
     },
     "metadata": {
      "needs_background": "light"
     },
     "output_type": "display_data"
    }
   ],
   "source": [
    "# single linkage\n",
    "mergings = linkage(country_df_scaled, method = \"single\", metric = \"euclidean\")\n",
    "dendrogram(mergings)\n",
    "plt.show()"
   ]
  },
  {
   "cell_type": "code",
   "execution_count": 111,
   "metadata": {},
   "outputs": [
    {
     "data": {
      "image/png": "[encoded data removed]",
      "text/plain": [
       "<Figure size 432x288 with 1 Axes>"
      ]
     },
     "metadata": {
      "needs_background": "light"
     },
     "output_type": "display_data"
    }
   ],
   "source": [
    "mergings = linkage(country_df_scaled, method = 'complete', metric = 'euclidean')\n",
    "dendrogram(mergings)\n",
    "plt.show()"
   ]
  },
  {
   "cell_type": "code",
   "execution_count": 112,
   "metadata": {},
   "outputs": [],
   "source": [
    "# Extracting 3 clusters\n",
    "cluster_labels = cut_tree(mergings,n_clusters = 4).reshape(-1,)"
   ]
  },
  {
   "cell_type": "code",
   "execution_count": null,
   "metadata": {},
   "outputs": [],
   "source": []
  },
  {
   "cell_type": "code",
   "execution_count": 113,
   "metadata": {},
   "outputs": [],
   "source": [
    "country_df['HR_Cluster_ID'] = cluster_labels"
   ]
  },
  {
   "cell_type": "code",
   "execution_count": 114,
   "metadata": {},
   "outputs": [
    {
     "data": {
      "text/html": [
       "<div>\n",
       "<style scoped>\n",
       "    .dataframe tbody tr th:only-of-type {\n",
       "        vertical-align: middle;\n",
       "    }\n",
       "\n",
       "    .dataframe tbody tr th {\n",
       "        vertical-align: top;\n",
       "    }\n",
       "\n",
       "    .dataframe thead th {\n",
       "        text-align: right;\n",
       "    }\n",
       "</style>\n",
       "<table border=\"1\" class=\"dataframe\">\n",
       "  <thead>\n",
       "    <tr style=\"text-align: right;\">\n",
       "      <th></th>\n",
       "      <th>country</th>\n",
       "      <th>child_mort</th>\n",
       "      <th>income</th>\n",
       "      <th>inflation</th>\n",
       "      <th>life_expec</th>\n",
       "      <th>total_fer</th>\n",
       "      <th>gdpp</th>\n",
       "      <th>health_spending_per_capita</th>\n",
       "      <th>exports_per_capita</th>\n",
       "      <th>imports_per_capita</th>\n",
       "      <th>Cluster_ID</th>\n",
       "      <th>HR_Cluster_ID</th>\n",
       "    </tr>\n",
       "  </thead>\n",
       "  <tbody>\n",
       "    <tr>\n",
       "      <th>0</th>\n",
       "      <td>Afghanistan</td>\n",
       "      <td>1.291532</td>\n",
       "      <td>-0.808245</td>\n",
       "      <td>0.157336</td>\n",
       "      <td>-1.619092</td>\n",
       "      <td>1.902882</td>\n",
       "      <td>-0.679180</td>\n",
       "      <td>-0.565040</td>\n",
       "      <td>-0.411011</td>\n",
       "      <td>-0.432276</td>\n",
       "      <td>0</td>\n",
       "      <td>0</td>\n",
       "    </tr>\n",
       "    <tr>\n",
       "      <th>1</th>\n",
       "      <td>Albania</td>\n",
       "      <td>-0.538949</td>\n",
       "      <td>-0.375369</td>\n",
       "      <td>-0.312347</td>\n",
       "      <td>0.647866</td>\n",
       "      <td>-0.859973</td>\n",
       "      <td>-0.485623</td>\n",
       "      <td>-0.439218</td>\n",
       "      <td>-0.350191</td>\n",
       "      <td>-0.313677</td>\n",
       "      <td>2</td>\n",
       "      <td>0</td>\n",
       "    </tr>\n",
       "    <tr>\n",
       "      <th>2</th>\n",
       "      <td>Algeria</td>\n",
       "      <td>-0.272833</td>\n",
       "      <td>-0.220844</td>\n",
       "      <td>0.789274</td>\n",
       "      <td>0.670423</td>\n",
       "      <td>-0.038404</td>\n",
       "      <td>-0.465376</td>\n",
       "      <td>-0.484826</td>\n",
       "      <td>-0.318526</td>\n",
       "      <td>-0.353720</td>\n",
       "      <td>2</td>\n",
       "      <td>0</td>\n",
       "    </tr>\n",
       "    <tr>\n",
       "      <th>3</th>\n",
       "      <td>Angola</td>\n",
       "      <td>2.007808</td>\n",
       "      <td>-0.585043</td>\n",
       "      <td>1.387054</td>\n",
       "      <td>-1.179234</td>\n",
       "      <td>2.128151</td>\n",
       "      <td>-0.516268</td>\n",
       "      <td>-0.532363</td>\n",
       "      <td>-0.291375</td>\n",
       "      <td>-0.345953</td>\n",
       "      <td>0</td>\n",
       "      <td>0</td>\n",
       "    </tr>\n",
       "    <tr>\n",
       "      <th>4</th>\n",
       "      <td>Antigua and Barbuda</td>\n",
       "      <td>-0.695634</td>\n",
       "      <td>0.101732</td>\n",
       "      <td>-0.601749</td>\n",
       "      <td>0.704258</td>\n",
       "      <td>-0.541946</td>\n",
       "      <td>-0.041817</td>\n",
       "      <td>-0.178771</td>\n",
       "      <td>-0.104331</td>\n",
       "      <td>0.040735</td>\n",
       "      <td>2</td>\n",
       "      <td>0</td>\n",
       "    </tr>\n",
       "  </tbody>\n",
       "</table>\n",
       "</div>"
      ],
      "text/plain": [
       "               country  child_mort    income  inflation  life_expec  \\\n",
       "0          Afghanistan    1.291532 -0.808245   0.157336   -1.619092   \n",
       "1              Albania   -0.538949 -0.375369  -0.312347    0.647866   \n",
       "2              Algeria   -0.272833 -0.220844   0.789274    0.670423   \n",
       "3               Angola    2.007808 -0.585043   1.387054   -1.179234   \n",
       "4  Antigua and Barbuda   -0.695634  0.101732  -0.601749    0.704258   \n",
       "\n",
       "   total_fer      gdpp  health_spending_per_capita  exports_per_capita  \\\n",
       "0   1.902882 -0.679180                   -0.565040           -0.411011   \n",
       "1  -0.859973 -0.485623                   -0.439218           -0.350191   \n",
       "2  -0.038404 -0.465376                   -0.484826           -0.318526   \n",
       "3   2.128151 -0.516268                   -0.532363           -0.291375   \n",
       "4  -0.541946 -0.041817                   -0.178771           -0.104331   \n",
       "\n",
       "   imports_per_capita  Cluster_ID  HR_Cluster_ID  \n",
       "0           -0.432276           0              0  \n",
       "1           -0.313677           2              0  \n",
       "2           -0.353720           2              0  \n",
       "3           -0.345953           0              0  \n",
       "4            0.040735           2              0  "
      ]
     },
     "execution_count": 114,
     "metadata": {},
     "output_type": "execute_result"
    }
   ],
   "source": [
    "country_df.head()"
   ]
  },
  {
   "cell_type": "code",
   "execution_count": 115,
   "metadata": {},
   "outputs": [
    {
     "data": {
      "image/png": "[encoded data removed]",
      "text/plain": [
       "<Figure size 432x288 with 1 Axes>"
      ]
     },
     "metadata": {
      "needs_background": "light"
     },
     "output_type": "display_data"
    }
   ],
   "source": [
    "\n",
    "sns.boxplot(x = 'Cluster_ID', y = 'gdpp', data = country_df)\n",
    "plt.show()"
   ]
  },
  {
   "cell_type": "code",
   "execution_count": 116,
   "metadata": {},
   "outputs": [
    {
     "data": {
      "image/png": "[encoded data removed]",
      "text/plain": [
       "<Figure size 432x288 with 1 Axes>"
      ]
     },
     "metadata": {
      "needs_background": "light"
     },
     "output_type": "display_data"
    }
   ],
   "source": [
    "sns.boxplot(x = 'HR_Cluster_ID', y= 'gdpp', data = country_df)\n",
    "plt.show()"
   ]
  },
  {
   "cell_type": "markdown",
   "metadata": {},
   "source": [
    "The countries that fall under first and fourth cluster, have the least GDPP."
   ]
  },
  {
   "cell_type": "code",
   "execution_count": 117,
   "metadata": {},
   "outputs": [
    {
     "data": {
      "image/png": "[encoded data removed]",
      "text/plain": [
       "<Figure size 432x288 with 1 Axes>"
      ]
     },
     "metadata": {
      "needs_background": "light"
     },
     "output_type": "display_data"
    }
   ],
   "source": [
    "# Income\n",
    "\n",
    "sns.boxplot(x = 'HR_Cluster_ID', y= 'income', data = country_df)\n",
    "plt.show()"
   ]
  },
  {
   "cell_type": "markdown",
   "metadata": {},
   "source": [
    "The countries that fall under first and fourth cluster, have the least Income.`"
   ]
  },
  {
   "cell_type": "code",
   "execution_count": 118,
   "metadata": {},
   "outputs": [
    {
     "data": {
      "image/png": "[encoded data removed]",
      "text/plain": [
       "<Figure size 432x288 with 1 Axes>"
      ]
     },
     "metadata": {
      "needs_background": "light"
     },
     "output_type": "display_data"
    },
    {
     "data": {
      "image/png": "[encoded data removed]",
      "text/plain": [
       "<Figure size 432x288 with 1 Axes>"
      ]
     },
     "metadata": {
      "needs_background": "light"
     },
     "output_type": "display_data"
    }
   ],
   "source": [
    "# child mortality\n",
    "\n",
    "sns.boxplot(x = 'Cluster_ID', y = 'child_mort', data = country_df)\n",
    "plt.show()\n",
    "\n",
    "sns.boxplot(x = 'HR_Cluster_ID', y= 'child_mort', data = country_df)\n",
    "plt.show()"
   ]
  },
  {
   "cell_type": "markdown",
   "metadata": {},
   "source": [
    "The countries which fall under the first cluster have the highest child mortality rate."
   ]
  },
  {
   "cell_type": "code",
   "execution_count": 119,
   "metadata": {},
   "outputs": [
    {
     "data": {
      "text/html": [
       "<div>\n",
       "<style scoped>\n",
       "    .dataframe tbody tr th:only-of-type {\n",
       "        vertical-align: middle;\n",
       "    }\n",
       "\n",
       "    .dataframe tbody tr th {\n",
       "        vertical-align: top;\n",
       "    }\n",
       "\n",
       "    .dataframe thead th {\n",
       "        text-align: right;\n",
       "    }\n",
       "</style>\n",
       "<table border=\"1\" class=\"dataframe\">\n",
       "  <thead>\n",
       "    <tr style=\"text-align: right;\">\n",
       "      <th></th>\n",
       "      <th>country</th>\n",
       "      <th>child_mort</th>\n",
       "      <th>income</th>\n",
       "      <th>inflation</th>\n",
       "      <th>life_expec</th>\n",
       "      <th>total_fer</th>\n",
       "      <th>gdpp</th>\n",
       "      <th>health_spending_per_capita</th>\n",
       "      <th>exports_per_capita</th>\n",
       "      <th>imports_per_capita</th>\n",
       "      <th>Cluster_ID</th>\n",
       "      <th>HR_Cluster_ID</th>\n",
       "    </tr>\n",
       "  </thead>\n",
       "  <tbody>\n",
       "    <tr>\n",
       "      <th>0</th>\n",
       "      <td>Afghanistan</td>\n",
       "      <td>1.291532</td>\n",
       "      <td>-0.808245</td>\n",
       "      <td>0.157336</td>\n",
       "      <td>-1.619092</td>\n",
       "      <td>1.902882</td>\n",
       "      <td>-0.679180</td>\n",
       "      <td>-0.565040</td>\n",
       "      <td>-0.411011</td>\n",
       "      <td>-0.432276</td>\n",
       "      <td>0</td>\n",
       "      <td>0</td>\n",
       "    </tr>\n",
       "    <tr>\n",
       "      <th>3</th>\n",
       "      <td>Angola</td>\n",
       "      <td>2.007808</td>\n",
       "      <td>-0.585043</td>\n",
       "      <td>1.387054</td>\n",
       "      <td>-1.179234</td>\n",
       "      <td>2.128151</td>\n",
       "      <td>-0.516268</td>\n",
       "      <td>-0.532363</td>\n",
       "      <td>-0.291375</td>\n",
       "      <td>-0.345953</td>\n",
       "      <td>0</td>\n",
       "      <td>0</td>\n",
       "    </tr>\n",
       "    <tr>\n",
       "      <th>17</th>\n",
       "      <td>Benin</td>\n",
       "      <td>1.808842</td>\n",
       "      <td>-0.797319</td>\n",
       "      <td>-0.654410</td>\n",
       "      <td>-0.987502</td>\n",
       "      <td>1.598107</td>\n",
       "      <td>-0.667961</td>\n",
       "      <td>-0.571075</td>\n",
       "      <td>-0.404030</td>\n",
       "      <td>-0.429979</td>\n",
       "      <td>0</td>\n",
       "      <td>0</td>\n",
       "    </tr>\n",
       "    <tr>\n",
       "      <th>21</th>\n",
       "      <td>Botswana</td>\n",
       "      <td>0.353908</td>\n",
       "      <td>-0.200033</td>\n",
       "      <td>0.107996</td>\n",
       "      <td>-1.517586</td>\n",
       "      <td>-0.045030</td>\n",
       "      <td>-0.361949</td>\n",
       "      <td>-0.294923</td>\n",
       "      <td>-0.259599</td>\n",
       "      <td>-0.227100</td>\n",
       "      <td>0</td>\n",
       "      <td>0</td>\n",
       "    </tr>\n",
       "    <tr>\n",
       "      <th>25</th>\n",
       "      <td>Burkina Faso</td>\n",
       "      <td>1.933196</td>\n",
       "      <td>-0.817611</td>\n",
       "      <td>-0.092213</td>\n",
       "      <td>-1.427359</td>\n",
       "      <td>1.936010</td>\n",
       "      <td>-0.677976</td>\n",
       "      <td>-0.566801</td>\n",
       "      <td>-0.407937</td>\n",
       "      <td>-0.437600</td>\n",
       "      <td>0</td>\n",
       "      <td>0</td>\n",
       "    </tr>\n",
       "  </tbody>\n",
       "</table>\n",
       "</div>"
      ],
      "text/plain": [
       "         country  child_mort    income  inflation  life_expec  total_fer  \\\n",
       "0    Afghanistan    1.291532 -0.808245   0.157336   -1.619092   1.902882   \n",
       "3         Angola    2.007808 -0.585043   1.387054   -1.179234   2.128151   \n",
       "17         Benin    1.808842 -0.797319  -0.654410   -0.987502   1.598107   \n",
       "21      Botswana    0.353908 -0.200033   0.107996   -1.517586  -0.045030   \n",
       "25  Burkina Faso    1.933196 -0.817611  -0.092213   -1.427359   1.936010   \n",
       "\n",
       "        gdpp  health_spending_per_capita  exports_per_capita  \\\n",
       "0  -0.679180                   -0.565040           -0.411011   \n",
       "3  -0.516268                   -0.532363           -0.291375   \n",
       "17 -0.667961                   -0.571075           -0.404030   \n",
       "21 -0.361949                   -0.294923           -0.259599   \n",
       "25 -0.677976                   -0.566801           -0.407937   \n",
       "\n",
       "    imports_per_capita  Cluster_ID  HR_Cluster_ID  \n",
       "0            -0.432276           0              0  \n",
       "3            -0.345953           0              0  \n",
       "17           -0.429979           0              0  \n",
       "21           -0.227100           0              0  \n",
       "25           -0.437600           0              0  "
      ]
     },
     "execution_count": 119,
     "metadata": {},
     "output_type": "execute_result"
    }
   ],
   "source": [
    "# Extracting countries that fall under first cluster\n",
    "countries_clus_1 = country_df[country_df['Cluster_ID'] == 0]\n",
    "countries_clus_1.head()"
   ]
  },
  {
   "cell_type": "code",
   "execution_count": 120,
   "metadata": {},
   "outputs": [
    {
     "name": "stdout",
     "output_type": "stream",
     "text": [
      "0                   Afghanistan\n",
      "3                        Angola\n",
      "17                        Benin\n",
      "21                     Botswana\n",
      "25                 Burkina Faso\n",
      "26                      Burundi\n",
      "28                     Cameroon\n",
      "31     Central African Republic\n",
      "32                         Chad\n",
      "36                      Comoros\n",
      "37             Congo, Dem. Rep.\n",
      "38                  Congo, Rep.\n",
      "40                Cote d'Ivoire\n",
      "49            Equatorial Guinea\n",
      "50                      Eritrea\n",
      "55                        Gabon\n",
      "56                       Gambia\n",
      "59                        Ghana\n",
      "63                       Guinea\n",
      "64                Guinea-Bissau\n",
      "66                        Haiti\n",
      "72                         Iraq\n",
      "80                        Kenya\n",
      "81                     Kiribati\n",
      "84                          Lao\n",
      "87                      Lesotho\n",
      "88                      Liberia\n",
      "93                   Madagascar\n",
      "94                       Malawi\n",
      "97                         Mali\n",
      "99                   Mauritania\n",
      "106                  Mozambique\n",
      "108                     Namibia\n",
      "112                       Niger\n",
      "113                     Nigeria\n",
      "116                    Pakistan\n",
      "126                      Rwanda\n",
      "129                     Senegal\n",
      "132                Sierra Leone\n",
      "136             Solomon Islands\n",
      "137                South Africa\n",
      "142                       Sudan\n",
      "147                    Tanzania\n",
      "149                 Timor-Leste\n",
      "150                        Togo\n",
      "155                      Uganda\n",
      "165                       Yemen\n",
      "166                      Zambia\n",
      "Name: country, dtype: object\n"
     ]
    }
   ],
   "source": [
    "countries = countries_clus_1.country\n",
    "print(countries)"
   ]
  },
  {
   "cell_type": "code",
   "execution_count": 124,
   "metadata": {},
   "outputs": [],
   "source": [
    "country_sort = countries_clus_1.sort_values(by = ['child_mort','income','gdpp'], ascending = True)"
   ]
  },
  {
   "cell_type": "code",
   "execution_count": 125,
   "metadata": {},
   "outputs": [],
   "source": [
    "final_countries = country_sort.head()"
   ]
  },
  {
   "cell_type": "code",
   "execution_count": 126,
   "metadata": {},
   "outputs": [
    {
     "data": {
      "text/html": [
       "<div>\n",
       "<style scoped>\n",
       "    .dataframe tbody tr th:only-of-type {\n",
       "        vertical-align: middle;\n",
       "    }\n",
       "\n",
       "    .dataframe tbody tr th {\n",
       "        vertical-align: top;\n",
       "    }\n",
       "\n",
       "    .dataframe thead th {\n",
       "        text-align: right;\n",
       "    }\n",
       "</style>\n",
       "<table border=\"1\" class=\"dataframe\">\n",
       "  <thead>\n",
       "    <tr style=\"text-align: right;\">\n",
       "      <th></th>\n",
       "      <th>country</th>\n",
       "      <th>child_mort</th>\n",
       "      <th>income</th>\n",
       "      <th>inflation</th>\n",
       "      <th>life_expec</th>\n",
       "      <th>total_fer</th>\n",
       "      <th>gdpp</th>\n",
       "      <th>health_spending_per_capita</th>\n",
       "      <th>exports_per_capita</th>\n",
       "      <th>imports_per_capita</th>\n",
       "      <th>Cluster_ID</th>\n",
       "      <th>HR_Cluster_ID</th>\n",
       "    </tr>\n",
       "  </thead>\n",
       "  <tbody>\n",
       "    <tr>\n",
       "      <th>136</th>\n",
       "      <td>Solomon Islands</td>\n",
       "      <td>-0.252936</td>\n",
       "      <td>-0.799401</td>\n",
       "      <td>-0.092213</td>\n",
       "      <td>-0.998780</td>\n",
       "      <td>0.856045</td>\n",
       "      <td>-0.638849</td>\n",
       "      <td>-0.526968</td>\n",
       "      <td>-0.378608</td>\n",
       "      <td>-0.377786</td>\n",
       "      <td>0</td>\n",
       "      <td>0</td>\n",
       "    </tr>\n",
       "    <tr>\n",
       "      <th>72</th>\n",
       "      <td>Iraq</td>\n",
       "      <td>-0.034074</td>\n",
       "      <td>-0.231250</td>\n",
       "      <td>0.836717</td>\n",
       "      <td>-0.378468</td>\n",
       "      <td>1.068063</td>\n",
       "      <td>-0.463187</td>\n",
       "      <td>-0.377662</td>\n",
       "      <td>-0.315157</td>\n",
       "      <td>-0.344580</td>\n",
       "      <td>0</td>\n",
       "      <td>0</td>\n",
       "    </tr>\n",
       "    <tr>\n",
       "      <th>21</th>\n",
       "      <td>Botswana</td>\n",
       "      <td>0.353908</td>\n",
       "      <td>-0.200033</td>\n",
       "      <td>0.107996</td>\n",
       "      <td>-1.517586</td>\n",
       "      <td>-0.045030</td>\n",
       "      <td>-0.361949</td>\n",
       "      <td>-0.294923</td>\n",
       "      <td>-0.259599</td>\n",
       "      <td>-0.227100</td>\n",
       "      <td>0</td>\n",
       "      <td>0</td>\n",
       "    </tr>\n",
       "    <tr>\n",
       "      <th>137</th>\n",
       "      <td>South Africa</td>\n",
       "      <td>0.383753</td>\n",
       "      <td>-0.267670</td>\n",
       "      <td>-0.135860</td>\n",
       "      <td>-1.833382</td>\n",
       "      <td>-0.237171</td>\n",
       "      <td>-0.311056</td>\n",
       "      <td>-0.226002</td>\n",
       "      <td>-0.297910</td>\n",
       "      <td>-0.313201</td>\n",
       "      <td>0</td>\n",
       "      <td>0</td>\n",
       "    </tr>\n",
       "    <tr>\n",
       "      <th>50</th>\n",
       "      <td>Eritrea</td>\n",
       "      <td>0.421059</td>\n",
       "      <td>-0.818131</td>\n",
       "      <td>0.362289</td>\n",
       "      <td>-0.998780</td>\n",
       "      <td>1.101191</td>\n",
       "      <td>-0.683065</td>\n",
       "      <td>-0.581240</td>\n",
       "      <td>-0.412809</td>\n",
       "      <td>-0.441548</td>\n",
       "      <td>0</td>\n",
       "      <td>0</td>\n",
       "    </tr>\n",
       "  </tbody>\n",
       "</table>\n",
       "</div>"
      ],
      "text/plain": [
       "             country  child_mort    income  inflation  life_expec  total_fer  \\\n",
       "136  Solomon Islands   -0.252936 -0.799401  -0.092213   -0.998780   0.856045   \n",
       "72              Iraq   -0.034074 -0.231250   0.836717   -0.378468   1.068063   \n",
       "21          Botswana    0.353908 -0.200033   0.107996   -1.517586  -0.045030   \n",
       "137     South Africa    0.383753 -0.267670  -0.135860   -1.833382  -0.237171   \n",
       "50           Eritrea    0.421059 -0.818131   0.362289   -0.998780   1.101191   \n",
       "\n",
       "         gdpp  health_spending_per_capita  exports_per_capita  \\\n",
       "136 -0.638849                   -0.526968           -0.378608   \n",
       "72  -0.463187                   -0.377662           -0.315157   \n",
       "21  -0.361949                   -0.294923           -0.259599   \n",
       "137 -0.311056                   -0.226002           -0.297910   \n",
       "50  -0.683065                   -0.581240           -0.412809   \n",
       "\n",
       "     imports_per_capita  Cluster_ID  HR_Cluster_ID  \n",
       "136           -0.377786           0              0  \n",
       "72            -0.344580           0              0  \n",
       "21            -0.227100           0              0  \n",
       "137           -0.313201           0              0  \n",
       "50            -0.441548           0              0  "
      ]
     },
     "execution_count": 126,
     "metadata": {},
     "output_type": "execute_result"
    }
   ],
   "source": [
    "final_countries"
   ]
  },
  {
   "cell_type": "markdown",
   "metadata": {},
   "source": [
    "The 5 countries which are dire need of help are: \n",
    "   1. Solomon Islands\n",
    "   2. Iraq\n",
    "   3. Botswana\n",
    "   4. South Africa\t\n",
    "   5. Eritrea"
   ]
  },
  {
   "cell_type": "code",
   "execution_count": null,
   "metadata": {},
   "outputs": [],
   "source": []
  }
 ],
 "metadata": {
  "kernelspec": {
   "display_name": "Python 3",
   "language": "python",
   "name": "python3"
  },
  "language_info": {
   "codemirror_mode": {
    "name": "ipython",
    "version": 3
   },
   "file_extension": ".py",
   "mimetype": "text/x-python",
   "name": "python",
   "nbconvert_exporter": "python",
   "pygments_lexer": "ipython3",
   "version": "3.7.1"
  }
 },
 "nbformat": 4,
 "nbformat_minor": 2
}
